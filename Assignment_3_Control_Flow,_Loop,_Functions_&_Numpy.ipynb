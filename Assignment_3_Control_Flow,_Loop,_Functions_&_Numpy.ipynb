{
  "cells": [
    {
      "cell_type": "markdown",
      "metadata": {
        "id": "bDes99ZUJEXs"
      },
      "source": [
        "# Assignment 3 - Control Flow, Loop, Numpy & Function\n",
        "Basics of Data Analysis <br>\n",
        "Total Points 26 <br>\n",
        "To pass you need to get atleast 14 points"
      ]
    },
    {
      "cell_type": "markdown",
      "metadata": {
        "id": "sXqcXpf4JBSl"
      },
      "source": [
        "1. Write a program that prompts students to provide their total points (0 -100) and check with the following conidtions: (5 Points) <br>\n",
        "\n",
        "* if total point is greater than or equal to 85 then the grade is 5\n",
        "* if total point is greater than or equal to 75 then the grade is 4\n",
        "* if total point is greater than or equal to 65 then the grade is 3\n",
        "* if total point is greater than or equal to 55 then the grade is 2\n",
        "* if total point is greater than or equal to 45 then the grade is 1\n",
        "* if total point is less than 45 then the grade is 0\n",
        "\n",
        "(Use IF statement)\n"
      ]
    },
    {
      "cell_type": "code",
      "execution_count": null,
      "metadata": {
        "id": "WnrK1m8FJBSm"
      },
      "outputs": [],
      "source": [
        "#ask user to input point - check example just below this cell if you do not know how to get input from the user.\n",
        "# Write conditions to check and output the grade based on point\n",
        "totalPoint = int(input(\"Enter your total point: \"))\n",
        "if totalPoint >= 85:\n",
        "    print(\"Grad is 5\")\n",
        "if totalPoint >= 75:\n",
        "    print(\"Grad is 4\")\n",
        "if totalPoint >= 65:\n",
        "    print(\"Grad is 3\")\n",
        "if totalPoint >= 55:\n",
        "    print(\"Grad is 2\")\n",
        "if totalPoint >= 45:\n",
        "    print(\"Grad is 1\")\n",
        "if totalPoint < 45:\n",
        "    print(\"Grad is 0\")\n",
        "\n",
        "\n"
      ]
    },
    {
      "cell_type": "code",
      "execution_count": null,
      "metadata": {
        "id": "tHOkAiBmIUQp"
      },
      "outputs": [],
      "source": [
        "# How to get input from the user in Python?\n",
        "# To get input from the user , you can use input() function which always returns a string\n",
        "# Example 1: String input from the user\n",
        "user_input = input(\"Enter your name: \")\n",
        "print(\"Your name is \", user_input)\n",
        "\n",
        "# Example 2: Number input from the user\n",
        "# To get numbers from the user, you will need to conver the user inputs by using functions like int() or float().\n",
        "\n",
        "# To get an integer input from the user\n",
        "age_input = int(input(\"Enter your Age: \"))\n",
        "print(\"You are \", age_input, \"years old.\")\n",
        "\n",
        "\n",
        "# To get a float input from the user\n",
        "height_input = float(input(\"Enter your height in cm: \"))\n",
        "print(\"Your height is \", height_input, \"CM\")"
      ]
    },
    {
      "cell_type": "markdown",
      "metadata": {
        "id": "hsmmFdowJBSp"
      },
      "source": [
        "2. Write a  program that asks used to input a number and create the multiplication table (from 1 to 10) of a number.(Use For) The output should be as below for an inputted number: (5 Points) <br>\n",
        "5 * 1 = 5 <br>\n",
        "5 * 2 = 10<br>\n",
        "...<br>\n",
        "...<br>\n",
        "...<br>\n",
        "5 * 10 = 50"
      ]
    },
    {
      "cell_type": "code",
      "execution_count": null,
      "metadata": {
        "id": "qWFK9S4gJBSp"
      },
      "outputs": [],
      "source": [
        "# get input from the user\n",
        "num = int(input(\"Enter your number : \"))\n",
        "for x in range(10):\n",
        "    rangStart = x + 1 \n",
        "    mul = num * rangStart\n",
        "    printer = \"{} * {} = {}\"\n",
        "    print( printer.format(num, rangStart, mul) )\n",
        "\n",
        "\n",
        "# print multiplication table for the number\n"
      ]
    },
    {
      "cell_type": "code",
      "execution_count": null,
      "metadata": {
        "id": "oYCaC7T_Mr59"
      },
      "outputs": [],
      "source": []
    },
    {
      "cell_type": "markdown",
      "metadata": {
        "id": "40LCjQ5GJBSu"
      },
      "source": [
        "3. Write a program using Numpy to generate and print 5 random number between 1 & 10 (Hints: random.randint) (3 Points)"
      ]
    },
    {
      "cell_type": "code",
      "execution_count": null,
      "metadata": {
        "id": "OAo0XkuMJBSu"
      },
      "outputs": [],
      "source": [
        "\n",
        "\n",
        "# Generate 5 random numbers between 1 and 10\n",
        "import numpy as np\n",
        "numbers = np.random.randint(1, 10, size=5)\n",
        "print(numbers)\n",
        "\n",
        "# Print the generated numbers\n"
      ]
    },
    {
      "cell_type": "markdown",
      "metadata": {
        "id": "XIvigqsPNLCd"
      },
      "source": [
        "4. Calculate the mean, media, mode and standard deviation of an array using Numpy. (5 Points)"
      ]
    },
    {
      "cell_type": "code",
      "execution_count": null,
      "metadata": {
        "id": "ynrLI9mzNagz"
      },
      "outputs": [],
      "source": [
        "# create a numpy array named numpy_yourfirstName that includes 10 numbers.\n",
        "\n",
        "# create 4 different variables to store mean, median, mode and standard deviation\n",
        "import numpy as np\n",
        "from scipy import stats as st\n",
        "\n",
        "array = np.arange(10)\n",
        "print(array)\n",
        "r1 = np.mean(array)\n",
        "print(\"\\nMean: \", r1)\n",
        "r1 = np.median(array)\n",
        "print(\"\\nMedian: \", r1)\n",
        "r1 = st.mode(array)\n",
        "print(\"\\nMode: \", r1)\n",
        "r1 = np.std(array)\n",
        "print(\"\\nstd: \", r1)\n",
        "\n",
        "\n",
        "# print each value in a new line that is:  The Mean is .... The median is .... The mode is .... The standard deviation is ......"
      ]
    },
    {
      "cell_type": "markdown",
      "metadata": {
        "id": "07anGnr_OmXt"
      },
      "source": [
        "5. Generate a numpy array of evenly spaced values from 0 to 10 in increments of 2. Hint: np.arrage (2 Points)"
      ]
    },
    {
      "cell_type": "code",
      "execution_count": null,
      "metadata": {
        "id": "qfSAul28PGzY"
      },
      "outputs": [],
      "source": [
        "# create an array of values from 0 to 10 in increments of 2\n",
        "import numpy as np\n",
        "\n",
        "temp = np.arange(start=1, stop=10, step=2)\n",
        "print(temp)\n",
        "\n",
        "\n",
        "# print"
      ]
    },
    {
      "cell_type": "markdown",
      "metadata": {
        "id": "C8GuYXrGPXT1"
      },
      "source": [
        "6. Find the maximum and minimum values in an array. (2 Points)"
      ]
    },
    {
      "cell_type": "code",
      "execution_count": null,
      "metadata": {
        "id": "VvL-Pw04PdrZ"
      },
      "outputs": [],
      "source": [
        "myarray = np.array([12,13,11,5,6,7,8,9,100, 223])\n",
        "# create two variables to store max and minimum values from the above array\n",
        "import numpy as np\n",
        "\n",
        "myarray = np.array([12,13,11,5,6,7,8,9,100, 223])\n",
        "maxVal = np.max(myarray)\n",
        "minVal = np.min(myarray)\n",
        "text = \"max {} , min {}\"\n",
        "print(text.format(maxVal, minVal))\n",
        "\n",
        "\n",
        "# Print the maximum and minimum values"
      ]
    },
    {
      "cell_type": "markdown",
      "metadata": {
        "id": "pPAskwm_QUXF"
      },
      "source": [
        "7. Create a simple function to calculate the area of a rectangle. (4 points)"
      ]
    },
    {
      "cell_type": "code",
      "execution_count": null,
      "metadata": {
        "id": "ShU-5cH5QdRc"
      },
      "outputs": [],
      "source": [
        "length = 5.5\n",
        "width = 6.5\n",
        "# Create the function to get the area of the rectangle that is area = length * width\n",
        "# Check below if you do not know how to create function in python\n",
        "def rectangleArea(length, width):\n",
        "    result = length * width\n",
        "    return result\n",
        "# Calling the function\n",
        "area = rectangleArea(5.5, 6.5)\n",
        "print(\"rectangle area:\", area)\n",
        "\n",
        "\n",
        "# Call the function and print the aread of the rectangle."
      ]
    },
    {
      "cell_type": "code",
      "execution_count": null,
      "metadata": {
        "id": "I9-Csd3WIklM"
      },
      "outputs": [],
      "source": [
        "# You can create function in Python by using the 'def' keyword.\n",
        "\n",
        "#Syntax:\n",
        "\n",
        "# def function_name(parameters):\n",
        "#  your function\n",
        "\n",
        "#Example 1 : A simple function to add 2 numbers.\n",
        "\n",
        "# Creating a function\n",
        "def add_numbers(a, b):\n",
        "    result = a + b\n",
        "    return result\n",
        "\n",
        "# Calling the function\n",
        "sum_result = add_numbers(4, 5)\n",
        "print(\"Sum:\", sum_result)\n",
        "\n",
        "\n",
        "\n"
      ]
    }
  ],
  "metadata": {
    "colab": {
      "provenance": []
    },
    "kernelspec": {
      "display_name": "Python 3",
      "language": "python",
      "name": "python3"
    },
    "language_info": {
      "codemirror_mode": {
        "name": "ipython",
        "version": 3
      },
      "file_extension": ".py",
      "mimetype": "text/x-python",
      "name": "python",
      "nbconvert_exporter": "python",
      "pygments_lexer": "ipython3",
      "version": "3.7.3"
    }
  },
  "nbformat": 4,
  "nbformat_minor": 0
}
